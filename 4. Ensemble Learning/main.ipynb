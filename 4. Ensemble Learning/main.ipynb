{
 "cells": [
  {
   "cell_type": "code",
   "execution_count": 106,
   "metadata": {},
   "outputs": [],
   "source": [
    "from sklearn.ensemble import RandomForestClassifier\n",
    "from sklearn.model_selection import train_test_split\n",
    "from sklearn.metrics import classification_report\n",
    "from sklearn.preprocessing import OneHotEncoder\n",
    "from sklearn.compose import make_column_transformer\n",
    "from sklearn.pipeline import make_pipeline\n",
    "from matplotlib import pyplot as plt\n"
   ]
  },
  {
   "cell_type": "code",
   "execution_count": 5,
   "metadata": {},
   "outputs": [],
   "source": [
    "import pandas as pd\n",
    "data =  pd.read_csv('data/wine/wine.data', sep=\",\")"
   ]
  },
  {
   "cell_type": "code",
   "execution_count": 82,
   "metadata": {},
   "outputs": [],
   "source": [
    "col_name = ['age','workclass','fnlwgt','education','education_num','marital_status','occupation',\n",
    "            'relationship','race','sex','capital_gain','capital_loss','hours_per_week','native_country',\n",
    "            'high_income']\n",
    "income = pd.read_csv('http://archive.ics.uci.edu/ml/machine-learning-databases/adult/adult.data',\n",
    "            names=col_name)\n",
    "income = {\"data\":income, \"y\":'high_income',\"name\" : 'income'}"
   ]
  },
  {
   "cell_type": "code",
   "execution_count": 83,
   "metadata": {},
   "outputs": [],
   "source": [
    "col_name = ['Industrial Risk','Management Risk','Financial Flexibility', 'Credibility', 'Competitiveness', 'Operating Risk', 'Class']\n",
    "Bankruptcy =  pd.read_csv('data/Qualitative_Bankruptcy/Qualitative_Bankruptcy.data.txt', sep=\",\",names=col_name)\n",
    "Bankruptcy = {\"data\":Bankruptcy, \"y\":'Class',\"name\" : 'Bankruptcy'}"
   ]
  },
  {
   "cell_type": "code",
   "execution_count": 84,
   "metadata": {},
   "outputs": [],
   "source": [
    "col_name = ['class', 'Alcohol', 'Malic acid', 'Ash', 'Alcalinity of ash', 'Magnesium', 'Total phenols', 'Flavanoids', 'Nonflavanoid phenols', 'Proanthocyanins', 'Color intensity', 'Hue', 'OD280/OD315 of diluted wines', 'Proline']\n",
    "Wine =  pd.read_csv('data/wine/wine.data', sep=\",\", names = col_name)\n",
    "Wine = {\"data\":Wine, \"y\":'class',\"name\" : 'Wine'}"
   ]
  },
  {
   "cell_type": "code",
   "execution_count": 85,
   "metadata": {},
   "outputs": [],
   "source": [
    "titanic =  pd.read_csv('data/titanic/train.csv')\n",
    "titanic = titanic.loc[:,['Survived','Pclass','Sex','Age','Parch','Fare','Embarked']]\n",
    "titanic = {\"data\":titanic, \"y\":'Survived',\"name\" : 'titanic'}"
   ]
  },
  {
   "cell_type": "code",
   "execution_count": 125,
   "metadata": {},
   "outputs": [],
   "source": [
    "data = [income, Bankruptcy, Wine, titanic]"
   ]
  },
  {
   "cell_type": "code",
   "execution_count": 126,
   "metadata": {},
   "outputs": [
    {
     "data": {
      "text/plain": [
       "<Figure size 432x288 with 0 Axes>"
      ]
     },
     "metadata": {},
     "output_type": "display_data"
    }
   ],
   "source": [
    "for datum in data:\n",
    "    output = []\n",
    "    for fraction in [0.1*x for x in range(1,10)]:\n",
    "        df = datum['data']\n",
    "        y_name = datum['y']\n",
    "        df = df.dropna(axis='index')\n",
    "        X = df.drop([y_name], axis = 1)\n",
    "        y = df[y_name]\n",
    "        \n",
    "        features_to_encode = X.columns[X.dtypes==object].tolist() \n",
    "        \n",
    "        col_trans = make_column_transformer(\n",
    "                            (OneHotEncoder(),features_to_encode),\n",
    "                            remainder = \"passthrough\"\n",
    "                            )    \n",
    "        \n",
    "        X_train, X_test, y_train, y_test = train_test_split(X, y, test_size=.25, random_state=0)\n",
    "\n",
    "        model = RandomForestClassifier(random_state=1,max_features=fraction)\n",
    "        pipe = make_pipeline(col_trans, model)\n",
    "\n",
    "        pipe.fit(X_train, y_train)\n",
    "        y_pred = pipe.predict(X_test)\n",
    "        output.append(classification_report(y_test, y_pred,output_dict=True)['weighted avg']['f1-score'])\n",
    "            \n",
    "        # model2 = RandomForestClassifier(random_state=1)\n",
    "        # pipe = make_pipeline(col_trans, model2)\n",
    "\n",
    "        # pipe.fit(X_train, y_train)\n",
    "        # y_pred2 = pipe.predict(X_test)\n",
    "        # print(classification_report(y_test, y_pred2))\n",
    "    plt.plot(output)\n",
    "    plt.plot(output, color='#e35f62', marker='*', linewidth=2)\n",
    "    plt.xticks([x for x in range(9)], labels = [round(0.1*x,2) for x in range(1,10)])\n",
    "    plt.savefig(f'{datum[\"name\"]}.png')\n",
    "    plt.clf()\n"
   ]
  },
  {
   "cell_type": "code",
   "execution_count": 138,
   "metadata": {},
   "outputs": [],
   "source": [
    "data = [income, Bankruptcy, Wine, titanic]\n",
    "output = []\n",
    "for datum in data:\n",
    "    criterion = ['gini','entropy']    \n",
    "    for crit in criterion:\n",
    "        df = datum['data']\n",
    "        y_name = datum['y']\n",
    "        df = df.dropna(axis='index')\n",
    "        X = df.drop([y_name], axis = 1)\n",
    "        y = df[y_name]\n",
    "        \n",
    "        features_to_encode = X.columns[X.dtypes==object].tolist() \n",
    "        \n",
    "        col_trans = make_column_transformer(\n",
    "                            (OneHotEncoder(),features_to_encode),\n",
    "                            remainder = \"passthrough\"\n",
    "                            )    \n",
    "        \n",
    "        X_train, X_test, y_train, y_test = train_test_split(X, y, test_size=.25, random_state=0)\n",
    "\n",
    "        model = RandomForestClassifier(random_state=1,criterion=crit)\n",
    "        pipe = make_pipeline(col_trans, model)\n",
    "\n",
    "        pipe.fit(X_train, y_train)\n",
    "        y_pred = pipe.predict(X_test)\n",
    "        output.append(classification_report(y_test, y_pred,output_dict=True)['weighted avg']['f1-score'])\n"
   ]
  }
 ],
 "metadata": {
  "kernelspec": {
   "display_name": "Python 3.8.11 ('my_python')",
   "language": "python",
   "name": "python3"
  },
  "language_info": {
   "codemirror_mode": {
    "name": "ipython",
    "version": 3
   },
   "file_extension": ".py",
   "mimetype": "text/x-python",
   "name": "python",
   "nbconvert_exporter": "python",
   "pygments_lexer": "ipython3",
   "version": "3.8.11"
  },
  "orig_nbformat": 4,
  "vscode": {
   "interpreter": {
    "hash": "8408167c68a6c7ce2a9250a27925a4e012fe511419b43bb8a1ac1f2424dfff45"
   }
  }
 },
 "nbformat": 4,
 "nbformat_minor": 2
}
