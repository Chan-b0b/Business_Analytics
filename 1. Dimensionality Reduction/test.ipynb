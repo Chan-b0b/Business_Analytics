{
 "cells": [
  {
   "cell_type": "code",
   "execution_count": 1,
   "metadata": {},
   "outputs": [],
   "source": [
    "import numpy as np\n",
    "import matplotlib.pyplot as plt\n",
    "from scipy import linalg\n",
    "from scipy.spatial.distance import cdist\n",
    "from sklearn.utils.graph_shortest_path import graph_shortest_path\n",
    "import scipy.io\n",
    "from functions import *\n"
   ]
  },
  {
   "cell_type": "code",
   "execution_count": 2,
   "metadata": {},
   "outputs": [
    {
     "data": {
      "text/plain": [
       "(3, 1600)"
      ]
     },
     "execution_count": 2,
     "metadata": {},
     "output_type": "execute_result"
    }
   ],
   "source": [
    "read_txt('./data/swiss_roll.txt')"
   ]
  },
  {
   "cell_type": "code",
   "execution_count": 9,
   "metadata": {},
   "outputs": [],
   "source": [
    "mat = scipy.io.loadmat('data/isomap.mat')\n",
    "m=mat['images']"
   ]
  },
  {
   "cell_type": "code",
   "execution_count": 12,
   "metadata": {},
   "outputs": [],
   "source": [
    "data= read_txt('./data/swiss_roll.txt')\n",
    "dist_func=\"euclidean\"\n",
    "eps = 10.4\n",
    "n, m = data.shape\n",
    "dist = cdist(data.T, data.T, metric=dist_func)\n",
    "adj =  np.zeros((m, m)) + np.inf\n",
    "bln = dist < eps\n",
    "adj[bln] = dist[bln]\n",
    "short = graph_shortest_path(adj)"
   ]
  },
  {
   "cell_type": "code",
   "execution_count": 8,
   "metadata": {},
   "outputs": [],
   "source": [
    "d = short\n",
    "dim = 2\n",
    "n, m = d.shape\n",
    "h = np.eye(m) - (1/m)*np.ones((m, m))\n",
    "d = d**2\n",
    "c = -1/(2*m) * h.dot(d).dot(h)\n",
    "evals, evecs = linalg.eig(c)\n",
    "idx = evals.argsort()[::-1]\n",
    "evals = evals[idx]\n",
    "evecs = evecs[:, idx]\n",
    "evals = evals[:dim] \n",
    "evecs = evecs[:, :dim]\n",
    "z = evecs.dot(np.diag(evals**(-1/2)))\n"
   ]
  },
  {
   "cell_type": "code",
   "execution_count": 31,
   "metadata": {},
   "outputs": [
    {
     "data": {
      "text/plain": [
       "array([[-1.64818401e-03+0.j,  1.25486580e-05+0.j],\n",
       "       [ 1.56286741e-03+0.j, -6.80377020e-04+0.j],\n",
       "       [-1.69041010e-03+0.j,  8.50290076e-04+0.j],\n",
       "       ...,\n",
       "       [ 8.18582897e-04+0.j, -2.10227141e-03+0.j],\n",
       "       [ 2.03990735e-03+0.j,  1.08799572e-03+0.j],\n",
       "       [-6.67869490e-04+0.j, -5.65363018e-04+0.j]])"
      ]
     },
     "execution_count": 31,
     "metadata": {},
     "output_type": "execute_result"
    }
   ],
   "source": []
  },
  {
   "cell_type": "code",
   "execution_count": 43,
   "metadata": {},
   "outputs": [
    {
     "data": {
      "text/plain": [
       "array([573.06976512+0.j, 343.99080768+0.j])"
      ]
     },
     "execution_count": 43,
     "metadata": {},
     "output_type": "execute_result"
    }
   ],
   "source": [
    "evals[:dim]"
   ]
  },
  {
   "cell_type": "code",
   "execution_count": 46,
   "metadata": {},
   "outputs": [
    {
     "data": {
      "text/plain": [
       "(698, 2)"
      ]
     },
     "execution_count": 46,
     "metadata": {},
     "output_type": "execute_result"
    }
   ],
   "source": [
    "z.shape"
   ]
  },
  {
   "cell_type": "code",
   "execution_count": 48,
   "metadata": {},
   "outputs": [
    {
     "data": {
      "text/plain": [
       "(4096, 698)"
      ]
     },
     "execution_count": 48,
     "metadata": {},
     "output_type": "execute_result"
    }
   ],
   "source": [
    "data.shape"
   ]
  },
  {
   "cell_type": "code",
   "execution_count": 11,
   "metadata": {},
   "outputs": [
    {
     "data": {
      "text/plain": [
       "(array([112922., 254146., 554478., 423612., 357286., 343104., 265334.,\n",
       "        187922.,  54126.,   7070.]),\n",
       " array([ 0.        ,  3.14634706,  6.29269413,  9.43904119, 12.58538825,\n",
       "        15.73173532, 18.87808238, 22.02442944, 25.17077651, 28.31712357,\n",
       "        31.46347063]),\n",
       " <BarContainer object of 10 artists>)"
      ]
     },
     "execution_count": 11,
     "metadata": {},
     "output_type": "execute_result"
    },
    {
     "data": {
      "image/png": "[encoded data removed]",
      "text/plain": [
       "<Figure size 432x288 with 1 Axes>"
      ]
     },
     "metadata": {
      "needs_background": "light"
     },
     "output_type": "display_data"
    }
   ],
   "source": [
    "plt.hist(short.flatten())"
   ]
  },
  {
   "cell_type": "code",
   "execution_count": 13,
   "metadata": {},
   "outputs": [
    {
     "name": "stdout",
     "output_type": "stream",
     "text": [
      "PCA\n",
      "--------\n",
      "\n",
      "Amount of variance explained:100.0%\n",
      "\n",
      "\n"
     ]
    }
   ],
   "source": [
    "from sklearn.decomposition import PCA\n",
    "pca = PCA(n_components=2)\n",
    "z = pca.fit(data)\n",
    "print(\"PCA\\n--------\\n\")\n",
    "print(\"Amount of variance explained:{0:.1%}\".format(\n",
    "    sum(z.explained_variance_ratio_[:2])))\n",
    "print(\"\\n\")\n"
   ]
  },
  {
   "cell_type": "code",
   "execution_count": null,
   "metadata": {},
   "outputs": [],
   "source": [
    "from sklearn.linear_model import LogisticRegression\n",
    "lr = LogisticRegression()\n",
    "lr = lr.fit(X_train_pca, y_train)"
   ]
  },
  {
   "cell_type": "code",
   "execution_count": 15,
   "metadata": {},
   "outputs": [
    {
     "data": {
      "text/plain": [
       "array([0.60674017, 0.39325983])"
      ]
     },
     "execution_count": 15,
     "metadata": {},
     "output_type": "execute_result"
    }
   ],
   "source": [
    "z.explained_variance_ratio_"
   ]
  },
  {
   "cell_type": "code",
   "execution_count": null,
   "metadata": {},
   "outputs": [],
   "source": [
    "from sklearn.datasets import load_digits\n",
    "from sklearn.manifold import Isomap\n",
    "X, _ = load_digits(return_X_y=True)\n",
    "\n",
    "embedding = Isomap(n_components=2)\n",
    "X_transformed = embedding.fit_transform(X[:100])\n",
    "X_transformed.shape"
   ]
  },
  {
   "cell_type": "code",
   "execution_count": 29,
   "metadata": {},
   "outputs": [],
   "source": [
    "from numpy.random import RandomState\n",
    "import matplotlib.pyplot as plt\n",
    "from matplotlib import ticker\n",
    "\n",
    "# unused but required import for doing 3d projections with matplotlib < 3.2\n",
    "import mpl_toolkits.mplot3d  # noqa: F401\n",
    "\n",
    "from sklearn import manifold, datasets\n",
    "\n",
    "rng = RandomState(0)\n",
    "\n",
    "n_samples = 1500\n",
    "S_points, S_color = datasets.make_s_curve(n_samples, random_state=rng)"
   ]
  },
  {
   "cell_type": "code",
   "execution_count": 31,
   "metadata": {},
   "outputs": [],
   "source": [
    "def plot_2d(points, points_color, title):\n",
    "    fig, ax = plt.subplots(figsize=(3, 3), facecolor=\"white\", constrained_layout=True)\n",
    "    fig.suptitle(title, size=16)\n",
    "    add_2d_scatter(ax, points, points_color)\n",
    "    plt.savefig('img/'+ title + '.png')\n",
    "\n",
    "def add_2d_scatter(ax, points, points_color, title=None):\n",
    "    x, y = points.T\n",
    "    ax.scatter(x, y, c=points_color, s=5, alpha=0.8)\n",
    "    ax.set_title(title)\n",
    "    ax.xaxis.set_major_formatter(ticker.NullFormatter())\n",
    "    ax.yaxis.set_major_formatter(ticker.NullFormatter())"
   ]
  },
  {
   "cell_type": "code",
   "execution_count": 57,
   "metadata": {},
   "outputs": [
    {
     "name": "stdout",
     "output_type": "stream",
     "text": [
      "1.5124622868162088\n",
      "0.6687017788522717\n",
      "0.6041764068619898\n"
     ]
    }
   ],
   "source": [
    "isomap = manifold.Isomap(n_neighbors=10, n_components=2, p=1)\n",
    "transformed = isomap.fit_transform(S_points)\n",
    "isomap.reconstruction_error()\n",
    "errors = []\n",
    "for i in range(1,4):\n",
    "    isomap = manifold.Isomap(n_neighbors=10, n_components=i, p=1)\n",
    "    transformed = isomap.fit_transform(S_points)\n",
    "    print(isomap.reconstruction_error())  \n",
    "    errors.append(isomap.reconstruction_error())"
   ]
  },
  {
   "cell_type": "code",
   "execution_count": 60,
   "metadata": {},
   "outputs": [
    {
     "data": {
      "image/png": "[encoded data removed]",
      "text/plain": [
       "<Figure size 216x216 with 1 Axes>"
      ]
     },
     "metadata": {},
     "output_type": "display_data"
    }
   ],
   "source": []
  },
  {
   "cell_type": "code",
   "execution_count": 54,
   "metadata": {},
   "outputs": [
    {
     "data": {
      "text/plain": [
       "[0.5792297962948476, 0.6041764068618583, 0.6687017788523906]"
      ]
     },
     "execution_count": 54,
     "metadata": {},
     "output_type": "execute_result"
    }
   ],
   "source": [
    "errors"
   ]
  },
  {
   "cell_type": "code",
   "execution_count": 61,
   "metadata": {},
   "outputs": [
    {
     "name": "stdout",
     "output_type": "stream",
     "text": [
      "4.830771215555865e-10\n",
      "1.1626181083855515e-08\n",
      "1.3412576475033263e-07\n"
     ]
    }
   ],
   "source": [
    "for i in range(1,4):\n",
    "    lle = manifold.LocallyLinearEmbedding(n_neighbors=10,n_components=i, method='standard')\n",
    "    transformed = lle.fit_transform(S_points)\n",
    "    print(lle.reconstruction_error_)"
   ]
  },
  {
   "cell_type": "code",
   "execution_count": 63,
   "metadata": {},
   "outputs": [
    {
     "name": "stdout",
     "output_type": "stream",
     "text": [
      "0.001996847530359288\n",
      "5.475192396667148e-07\n",
      "2.4616802871888365e-16\n"
     ]
    }
   ],
   "source": [
    "for i in range(1,4):\n",
    "    lle = manifold.LocallyLinearEmbedding(n_neighbors=10,n_components=i, method='hessian')\n",
    "    transformed = lle.fit_transform(S_points)\n",
    "    print(lle.reconstruction_error_)"
   ]
  },
  {
   "cell_type": "code",
   "execution_count": 69,
   "metadata": {},
   "outputs": [
    {
     "data": {
      "image/png": "[encoded data removed]",
      "text/plain": [
       "<Figure size 432x432 with 1 Axes>"
      ]
     },
     "metadata": {},
     "output_type": "display_data"
    }
   ],
   "source": [
    "methods = ['standard', 'ltsa', 'hessian', 'modified']\n",
    "fig, ax = plt.subplots(figsize=(6, 6), facecolor=\"white\", constrained_layout=True)\n",
    "for method in methods:\n",
    "    error = []\n",
    "    for i in range(1,4):\n",
    "        lle = manifold.LocallyLinearEmbedding(n_neighbors=10,n_components=i, method=method)\n",
    "        transformed = lle.fit_transform(S_points)\n",
    "        error.append(lle.reconstruction_error_)\n",
    "    ax.plot(error, label = f'{method}')\n",
    "    ax.legend()"
   ]
  },
  {
   "cell_type": "code",
   "execution_count": 68,
   "metadata": {},
   "outputs": [
    {
     "data": {
      "text/plain": [
       "[4.830763982601579e-10,\n",
       " 1.1626333593505006e-08,\n",
       " 1.3417041622241517e-07,\n",
       " 0.001996845805389067,\n",
       " 5.475192808442212e-07,\n",
       " -1.5561961761272544e-15,\n",
       " 0.001996846891116953,\n",
       " 5.475192682216728e-07,\n",
       " 2.057292280444845e-16,\n",
       " 0.0010560341331298758,\n",
       " 7.409464740706109e-07,\n",
       " 1.2521184653869477e-06]"
      ]
     },
     "execution_count": 68,
     "metadata": {},
     "output_type": "execute_result"
    }
   ],
   "source": [
    "error"
   ]
  },
  {
   "cell_type": "code",
   "execution_count": null,
   "metadata": {},
   "outputs": [],
   "source": []
  }
 ],
 "metadata": {
  "kernelspec": {
   "display_name": "Python 3.8.11 ('my_python')",
   "language": "python",
   "name": "python3"
  },
  "language_info": {
   "codemirror_mode": {
    "name": "ipython",
    "version": 3
   },
   "file_extension": ".py",
   "mimetype": "text/x-python",
   "name": "python",
   "nbconvert_exporter": "python",
   "pygments_lexer": "ipython3",
   "version": "3.8.11"
  },
  "orig_nbformat": 4,
  "vscode": {
   "interpreter": {
    "hash": "8408167c68a6c7ce2a9250a27925a4e012fe511419b43bb8a1ac1f2424dfff45"
   }
  }
 },
 "nbformat": 4,
 "nbformat_minor": 2
}
